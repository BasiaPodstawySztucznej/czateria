{
  "nbformat": 4,
  "nbformat_minor": 0,
  "metadata": {
    "colab": {
      "provenance": []
    },
    "kernelspec": {
      "name": "python3",
      "display_name": "Python 3"
    },
    "language_info": {
      "name": "python"
    }
  },
  "cells": [
    {
      "cell_type": "code",
      "source": [],
      "metadata": {
        "id": "uIzC-WxHDBXI"
      },
      "execution_count": null,
      "outputs": []
    },
    {
      "cell_type": "markdown",
      "source": [
        "WSZYSTKO DZIAŁA W SWISH PROLOGU"
      ],
      "metadata": {
        "id": "CoktxBwzvdEt"
      }
    },
    {
      "cell_type": "markdown",
      "source": [
        "\n",
        "\n",
        "ZADANIE 1\n",
        "\n",
        "\n",
        "\n",
        "%Fakty moje\n",
        "\n",
        "kobieta(hela).\n",
        "kobieta(ula).\n",
        "kobieta(edyta).\n",
        "kobieta(ela).\n",
        "kobieta(natalia).\n",
        "\n",
        "mezczyzna(edzio).\n",
        "mezczyzna(andrzej).\n",
        "mezczyzna(piotr).\n",
        "mezczyzna(waldek).\n",
        "mezczyzna(arek).\n",
        "\n",
        "dziecko(ula, hela).\n",
        "dziecko(ewa, hela).\n",
        "dziecko(andrzej, hela).\n",
        "dziecko(piotr, hela).\n",
        "dziecko(ula, edzio).\n",
        "dziecko(ewa, edzio).\n",
        "dziecko(andrzej, edzio).\n",
        "dziecko(piotr, edzio).\n",
        "dziecko(natalia, edyta).\n",
        "dziecko(natalia, piotr).\n",
        "dziecko(arek, ewa).\n",
        "dziecko(arek, andrzej).\n",
        "\n",
        "%reguły\n",
        "\n",
        "rodzic(X, Y) :- dziecko(Y,X).\n",
        "przodek(X, Y) :- rodzic(X,Y) ; (   rodzic(X, Z), przodek(Z, Y)).\n",
        "potomek(X, Y) :- przodek(Y, X).\n",
        "malzenstwo(X, Y) :- rodzic(X, Z), rodzic(Y, Z), X \\=Y.\n",
        "rodzenstwo(X, Y) :- rodzic(Z, X), rodzic(Z, Y), X \\= Y.\n",
        "kuzynostwo(X, Y) :- rodzic(P1, X), rodzic(P2, Y), rodzenstwo(P1, P2).\n"
      ],
      "metadata": {
        "id": "uoe8MlPysnAv"
      }
    },
    {
      "cell_type": "markdown",
      "source": [
        "%PYTANIA\n",
        "\n",
        "%Jacy są przodkowie Natalii, ?-przodek(X, natalia) -> wynik: x=edyta, x= piotr, x=hela, x=edzio false\n",
        "\n",
        "%Rodzice Ewy. ?-rodzic(X, ewa) -> x=hela, x=edzio\n",
        "\n",
        "%Potomkowie Edzia. ?- potomek(X, edzio) -> X = ula X = ewa X = andrzej X = piotr X = arek X = arek X = natalia false\n",
        "\n",
        "%Rodzeństwo Natalia. ?-rodzenstwo(X, natalia) -> false\n",
        "\n",
        "%Rodzeństwo Piotra. ?-rodzenstwo(X, piotr) -> X = ula, X = ewa, X = andrzej, X = ula, X = ewa, X = andrzej,    false\n",
        "\n",
        "%Kuzynostwo Arka. ?-kuzynostwo(X, arek) -> X = natalia, X = natalia, X = natalia, X = natalia, X = arek,\n",
        "%X = arek, X = arek, X = arek, false"
      ],
      "metadata": {
        "id": "QxccKLrrsyZm"
      }
    },
    {
      "cell_type": "markdown",
      "source": [
        "ZADANIE 2.\n",
        "\n",
        "%fakty\n",
        "%lotnisko(nazwa, miasto).\n",
        "lotnisko(chopina, warszawa).\n",
        "lotnisko(balice, krakow).\n",
        "lotnisko(walesy, gdansk).\n",
        "lotnisko(kopernika, wroclaw).\n",
        "lotnisko(swidnik, lublin).\n",
        "\n",
        "% polaczenie(lotnisko 1, lotnisko 2, czas, cena)\n",
        "polaczenie(chopina, balice, 60, 250).\n",
        "polaczenie(balice, walesy, 100, 300).\n",
        "polaczenie(walesy, kopernika, 90, 250).\n",
        "polaczenie(kopernika, swidnik, 50, 150).\n",
        "polaczenie(chopina, walesy, 45, 100).\n",
        "polaczenie(swidnik, balice, 60, 250).\n",
        "\n",
        "\n",
        "%reguły\n",
        "\n",
        "bezposrednie_polaczenie(X, Y, Czas, Cena) :-\n",
        "    polaczenie(X, Y, Czas, Cena);\n",
        "    polaczenie(Y, X, Czas, Cena).\n",
        "\n",
        "koszt_podrozy(X, Y, Cena) :-\t\t\t\t\t\t\t%jaki będzie koszt danej podróży\n",
        "    bezposrednie_polaczenie(X, Y, _, Cena).\n",
        "\n",
        "najkrotsza_trasa(X, Y, Czas, Cena) :- bezposrednie_polaczenie(X, Y, Czas, _).\n"
      ],
      "metadata": {
        "id": "CPYO6EbJtCeu"
      }
    },
    {
      "cell_type": "markdown",
      "source": [
        "%PYTANIA\n",
        "\n",
        "% ?-polaczenie(X, balice, 60, 250).  -> x=chopina\n",
        "\n",
        "% Jakie są połączenia z lotniskiem Kopernika i jaki będzie koszt podróży?  ?-koszt_podrozy(X, Y, Cena)  \n",
        "% -> Cena = 250, X = walesy, Cena = 150, X = swidnik\n"
      ],
      "metadata": {
        "id": "AH3HfcPtvEed"
      }
    },
    {
      "cell_type": "markdown",
      "source": [
        "ZADANIE 3\n",
        "\n",
        "%FAKTY\n",
        "\n",
        "produkt(pralka).\t\t\t%produkty\n",
        "produkt(telewizor).\n",
        "produkt(zmywarka).\n",
        "produkt(lodowka).\n",
        "produkt(piekarnik).\n",
        "produkt(mikrofala).\n",
        "produkt(toster).\n",
        "produkt(laptop).\n",
        "produkt(suszarka).\n",
        "\n",
        "%ilość\n",
        "ilosc(pralka, 100).\n",
        "ilosc(telewizor, 50).\n",
        "ilosc(zmywarka, 60).\n",
        "ilosc(lodowka, 70).\n",
        "ilosc(piekarnik, 70).\n",
        "ilosc(mikrofala, 90).\n",
        "ilosc(toster, 100).\n",
        "ilosc(laptop, 60).\n",
        "ilosc(suszarka, 86).\n",
        "\n",
        "%produkt_stan(produkt, ilość, sektor).\n",
        "\n",
        "produkt_stan(pralka, 100, sektor_a). \t\t\t%sektor a-łazienka, b- pokój, c- kuchnia\n",
        "produkt_stan(telewizor, 50, sektor_b).\n",
        "produkt_stan(zmywarka, 60, sektor_c).\n",
        "produkt_stan(lodowka, 70, sektor_c).\n",
        "produkt_stan(piekarnik, 40, sektor_c).\n",
        "produkt_stan(mikrofala, 90, sektor_c).\n",
        "produkt_stan(toster, 100, sektor_c).\n",
        "produkt_stan(laptop, 60, sektor_b).\n",
        "produkt_stan(suszarka, 85, sektor_a).\n",
        "\n",
        "\n",
        "%REGUŁY\n",
        "dostepny_produkt(X) :- produkt_stan(X, Ilosc, _), Ilosc > 0."
      ],
      "metadata": {
        "id": "9VYA1ehzwrDV"
      }
    },
    {
      "cell_type": "markdown",
      "source": [
        "%PYTANIA\n",
        "\n",
        "%CZy jest dostępny produkt X -> wynik true albo false"
      ],
      "metadata": {
        "id": "jIaWrt-Xba-c"
      }
    },
    {
      "cell_type": "markdown",
      "source": [
        "ZADANIE 4\n",
        "\n",
        "%Cel zadania: Zaprojektuj i wdroż w Prologu bazę faktów dla systemu planowania trasy kuriera.\n",
        "%Baza danych powinna zawierać informacje o miastach, połączeniach drogowych między nimi oraz czasie przejazdu.\n",
        "%Opracuj reguły umożliwiające zapytania o dostępność dróg, obliczanie czasu przejazdu oraz wyznaczanie najkrótszej\n",
        "%trasy.\n",
        "\n",
        "\n",
        "\n",
        "%FAKTY\n",
        "\n",
        "miasto(warszawa).\n",
        "miasto(krakow).\n",
        "miasto(lublin).\n",
        "miasto(wroclaw).\n",
        "miasto(katowice).\n",
        "miasto(gdansk).\n",
        "miasto(rzeszow).\n",
        "\n",
        "\n",
        "droga(warszawa, krakow, 4).\n",
        "droga(lublin, krakow, 5).\n",
        "droga(wroclaw, katowice, 2).\n",
        "droga(gdansk, rzeszow, 6).\n",
        "droga(rzeszow, warszawa, 4).\n",
        "droga(katowice, lublin, 7).\n",
        "\n",
        "%reguły\n",
        "dostepna_droga(A, B) :- droga(A, B, _).\n",
        "czas_przejazdu(A, B, C) :- droga(A, B, C)."
      ],
      "metadata": {
        "id": "nJMjg9hHw1IN"
      }
    },
    {
      "cell_type": "markdown",
      "source": [
        "%pytania\n",
        "\n",
        "%Czy jest dostępna droga między jakimś a jakimś miastem? ?-dostepna_droga(A, krakow) ->\n",
        "%A=warszawa, A=Lublin\n",
        "%Ile czasu trwa droga między X a Y miastem? ?-czas_przejazdu(wroclaw, katowice, C) -> C=2"
      ],
      "metadata": {
        "id": "fyXbmd_5dutW"
      }
    },
    {
      "cell_type": "markdown",
      "source": [
        "ZADANIE 5\n",
        "\n",
        "\n",
        "%FAKTY MOJE\n",
        "\n",
        "ksiazka(\"hobbit\" , tolkien, fantasy).\t\t\t\t\t\t\t\t\t%kasiążki\n",
        "ksiazka(\"harry potter\", rowling, fantasy).\n",
        "ksiazka(\"duma i uprzedzenie\", austen, romans).\n",
        "ksiazka(\"ania z zielonego wzgorza\", montgomery, powiesc).\n",
        "ksiazka(\"zbrodnia i kara\", dostojewski, dramat).\n",
        "\n",
        "uzytkownik(kasia).\t\t\t\t%użytkownicy których mamy\n",
        "uzytkownik(adam).\n",
        "uzytkownik(lucja).\n",
        "\n",
        "ocena(kasia, \"hobbit\", 5).\t\t\t\t\t\t\t\t%ocena(użytkownik, tytuł, ocena).\n",
        "ocena(kasia, \"duma i uprzedzenie\", 5).\n",
        "ocena(adam, \"harry potter\", 2).\n",
        "ocen(adam, \"zbrodnia i kara\", 5).\n",
        "ocena(lucja, \"ania z zielonego wzgorza\", 1).\n",
        "ocena(lucja, \"harry potter\", 5).\n",
        "\n",
        "ulubione(kasia, romans).\t\t\t\t\t\t\t\t\t%ulubione(osoba, ulubiony gatunek)\n",
        "ulubione(adam, dramat).\n",
        "ulubione(lucja, fantasy).\n",
        "\n",
        "\n",
        "polecane_ksiazki(Uzytkownik, Gatunek) :- ulubione(Uzytkownik, Gatunek),\n",
        "    findall(Tytul, (ksiazka(Tytul, _, Gatunek), ocena(Uzytkownik, Tytul, Ocena), Ocena >= 4), Polecane),\n",
        "    write(Polecane).\n",
        "\n",
        "\n",
        "dodaj_ocene(Uzytkownik, Tytul, Ocena) :-\n",
        "    assertz(ocena(Uzytkownik, Tytul, Ocena)).\n"
      ],
      "metadata": {
        "id": "o9Vvjehv1Gvd"
      }
    },
    {
      "cell_type": "markdown",
      "source": [
        "%PYTANIA\n",
        "\n",
        "%Jaki jest ulubiony gatunek Kasi? ?-ulubione(kasia, X)   -> x=romans\n",
        "%Jakie książki poleca dana osoba+ gatunek -> ?-polecane_ksiazki(adam, dramat)"
      ],
      "metadata": {
        "id": "CzyekyQt19f8"
      }
    }
  ]
}